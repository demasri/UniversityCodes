{
 "cells": [
  {
   "cell_type": "code",
   "execution_count": 6,
   "metadata": {},
   "outputs": [],
   "source": [
    "#Auteur: Daniel El-Masri\n",
    "\n",
    "#Problème de l'exercice 4 du Devoir 1\n",
    "\n",
    "#Date: 23 Septembre 2019"
   ]
  },
  {
   "cell_type": "markdown",
   "metadata": {},
   "source": [
    "Cette cellule est un texte (choisir l'option markdown et non code)"
   ]
  },
  {
   "cell_type": "code",
   "execution_count": 4,
   "metadata": {
    "scrolled": true
   },
   "outputs": [
    {
     "name": "stderr",
     "output_type": "stream",
     "text": [
      "┌ Info: Precompiling CPLEX [a076750e-1247-5638-91d2-ce28b192dca0]\n",
      "└ @ Base loading.jl:1192\n",
      "ERROR: LoadError: CPLEX not properly installed. Please run Pkg.build(\"CPLEX\")\n",
      "Stacktrace:\n",
      " [1] error(::String) at ./error.jl:33\n",
      " [2] top-level scope at /home/daniel/.julia/packages/CPLEX/NzxB3/src/CPLEX.jl:16\n",
      " [3] include at ./boot.jl:317 [inlined]\n",
      " [4] include_relative(::Module, ::String) at ./loading.jl:1044\n",
      " [5] include(::Module, ::String) at ./sysimg.jl:29\n",
      " [6] top-level scope at none:2\n",
      " [7] eval at ./boot.jl:319 [inlined]\n",
      " [8] eval(::Expr) at ./client.jl:393\n",
      " [9] top-level scope at ./none:3\n",
      "in expression starting at /home/daniel/.julia/packages/CPLEX/NzxB3/src/CPLEX.jl:13\n"
     ]
    },
    {
     "ename": "ErrorException",
     "evalue": "Failed to precompile CPLEX [a076750e-1247-5638-91d2-ce28b192dca0] to /home/daniel/.julia/compiled/v1.0/CPLEX/QpT0w.ji.",
     "output_type": "error",
     "traceback": [
      "Failed to precompile CPLEX [a076750e-1247-5638-91d2-ce28b192dca0] to /home/daniel/.julia/compiled/v1.0/CPLEX/QpT0w.ji.",
      "",
      "Stacktrace:",
      " [1] error(::String) at ./error.jl:33",
      " [2] compilecache(::Base.PkgId, ::String) at ./loading.jl:1203",
      " [3] _require(::Base.PkgId) at ./loading.jl:960",
      " [4] require(::Base.PkgId) at ./loading.jl:858",
      " [5] require(::Module, ::Symbol) at ./loading.jl:853",
      " [6] top-level scope at In[4]:3"
     ]
    }
   ],
   "source": [
    "#On charge les modules dont on a besoin\n",
    "using JuMP    #Pour la définition du modèle (variables, contraintes, fonction objectif, solveur à utiliser...)\n",
    "using CPLEX   #Pour la résolution du modèle"
   ]
  },
  {
   "cell_type": "code",
   "execution_count": 3,
   "metadata": {},
   "outputs": [
    {
     "name": "stdout",
     "output_type": "stream",
     "text": [
      "Max 3000 x1 + 5000 x2\n",
      "Subject to\n",
      " x1 >= 0.0\n",
      " x2 >= 0.0\n",
      " x1 <= 4.0\n",
      " 2 x2 <= 12.0\n",
      " 3 x1 + 2 x2 <= 18.0\n",
      "\n"
     ]
    },
    {
     "data": {
      "text/latex": [
       "$$ \\begin{alignat*}{1}\\max\\quad & 3000 x1 + 5000 x2\\\\\n",
       "\\text{Subject to} \\quad & x1 \\geq 0.0\\\\\n",
       " & x2 \\geq 0.0\\\\\n",
       " & x1 \\leq 4.0\\\\\n",
       " & 2 x2 \\leq 12.0\\\\\n",
       " & 3 x1 + 2 x2 \\leq 18.0\\\\\n",
       "\\end{alignat*}\n",
       " $$"
      ],
      "text/plain": [
       "A JuMP Model\n",
       "Maximization problem with:\n",
       "Variables: 2\n",
       "Objective function type: GenericAffExpr{Float64,VariableRef}\n",
       "`VariableRef`-in-`MathOptInterface.GreaterThan{Float64}`: 2 constraints\n",
       "`GenericAffExpr{Float64,VariableRef}`-in-`MathOptInterface.LessThan{Float64}`: 3 constraints\n",
       "Model mode: AUTOMATIC\n",
       "CachingOptimizer state: EMPTY_OPTIMIZER\n",
       "Solver name: CPLEX\n",
       "Names registered in the model: capaUsine1, capaUsine2, capaUsine3, x1, x2"
      ]
     },
     "execution_count": 3,
     "metadata": {},
     "output_type": "execute_result"
    }
   ],
   "source": [
    "#Ce modèle est une première version très simple. On écrit directement le modèle sans utiliser des noms significatifs pour\n",
    "#les données\n",
    "modeleExercice4 = Model(with_optimizer(CPLEX.Optimizer)) #On construit un modèle nommé modeleExercice4 et on indique que le solveur\n",
    "#à utiliser est CPLEX\n",
    "\n",
    "@variable(modeleExercice4, x1 >= 0)     #La variable x1 pour le nombres de kilos des tomates A en conserve entiere\n",
    "@variable(modeleExercice4, x2 >= 0)     #La variable x2 pour le nombres de kilos des tomates B en conserve entiere\n",
    "@variable(modeleExercice4, x3 >= 0)     #La variable x3 pour le nombres de kilos des tomates A en conserves a pates\n",
    "@variable(modeleExercice4, x4 >= 0)     #La variable x4 pour le nombres de kilos des tomates B en conserves a pates\n",
    "\n",
    "#N.B: Comme la fonction objectif dépend de x1 et x2, il faut l'écrire après la \"déclaration\" des variables x1 et x2\n",
    "@objective(modeleExercice4, Max, 3000*x1 + 5000*x2)  #Fonction objectif de modeleExercice4. Si on voulait minimiser,\n",
    "#on aurait écrit Min à la place de Max\n",
    "\n",
    "\n",
    "@constraint(modeleExercice4, quantiteTmtA, 1*x1 + 1*x2 <= 5000) #On ajoute la contrainte qu'on a seulement 5000kgs de tomates de categorie A\n",
    "@constraint(modeleExercice4, quantiteTmtB, 1*x1 + 1*x2 <= 10000) #On ajoute la contrainte qu'on a seulement 10000kgs de tomates de categorie B\n",
    "@constraint(modeleExercice4, prcentageTmtA, 1*x1 / (x1 + x2) >= 0.80) #On ajoute la contrainte que 80% des cans de tomates entiere viennent de categorie A\n",
    "@constraint(modeleExercice4, prcentagetmtB, 1*x4 / (x3 + x4) >= 0.10) #On ajoute la contrainte que 10% des cans de tomates en pates viennent de categorie B\n",
    "\n",
    "\n",
    "println(modeleExercice4) #Afficher le modèle (julia)\n",
    "modeleExercice4  #Afficher le modèle (JuMP)\n",
    "#Noter la différence dans l'affichage\n",
    "#Si on avait écrit dans cet ordre:\n",
    "#modeleExercice4  #Afficher le modèle (JuMP)\n",
    "#println(modeleExercice4) #Afficher le modèle (julia)\n",
    "#on aurait eu comme sortie uniquement l'affichage demandé par println. En effet, Jupyter Notebook affiche le 'résultat' de la\n",
    "#dernière ligne d'une cellule. Si on ne veut pas voir le résultat de la dernière ligne d'une cellule, il faut ajouter \";\" \n",
    "#à la fin d'une cellule (sauf si la dernière ligne demande explicitement l'affichage avec println par exemple)"
   ]
  },
  {
   "cell_type": "code",
   "execution_count": 4,
   "metadata": {},
   "outputs": [
    {
     "name": "stdout",
     "output_type": "stream",
     "text": [
      "Tried aggregator 1 time.\r\n",
      "LP Presolve eliminated 2 rows and 0 columns.\r\n",
      "Reduced LP has 1 rows, 2 columns, and 2 nonzeros.\r\n",
      "Presolve time = 0.00 sec. (0.00 ticks)\r\n",
      "\r\n",
      "Iteration log . . .\r\n",
      "Iteration:     1   Dual objective     =         36000.000000\r\n"
     ]
    }
   ],
   "source": [
    "#L'affichage du modèle permet de s'assurer que le modèle a été bien défini (pas d'erreurs).\n",
    "optimize!(modeleExercice4) #On demande au solveur de résoudre le modèle"
   ]
  },
  {
   "cell_type": "code",
   "execution_count": 5,
   "metadata": {},
   "outputs": [
    {
     "data": {
      "text/plain": [
       "OPTIMAL::TerminationStatusCode = 1"
      ]
     },
     "execution_count": 5,
     "metadata": {},
     "output_type": "execute_result"
    }
   ],
   "source": [
    "termination_status(modeleExercice4) #Pour savoir pourquoi l'optimisation a fini "
   ]
  },
  {
   "cell_type": "code",
   "execution_count": 6,
   "metadata": {},
   "outputs": [
    {
     "name": "stdout",
     "output_type": "stream",
     "text": [
      "Solution x1: 2.0\n",
      "Solution x2: 6.0\n"
     ]
    }
   ],
   "source": [
    "#Le modèle est résolu ! Mais on n'a pas les informations que l'on cherche !\n",
    "#On demande plus d'informations\n",
    "#Pour les valeurs des variables\n",
    "println(\"Solution x1: \", value.(x1))\n",
    "println(\"Solution x2: \", value.(x2))\n",
    "println(\"Solution x3: \", value.(x3))\n",
    "println(\"Solution x4: \", value.(x4))"
   ]
  },
  {
   "cell_type": "code",
   "execution_count": 7,
   "metadata": {},
   "outputs": [
    {
     "name": "stdout",
     "output_type": "stream",
     "text": [
      "Valeur optimale: 36000.0\n"
     ]
    }
   ],
   "source": [
    "println(\"Valeur optimale: \", objective_value(modeleExercice4)) #Afficher la valeur optimale (la valeur de la fonction objectif)"
   ]
  },
  {
   "cell_type": "code",
   "execution_count": null,
   "metadata": {},
   "outputs": [],
   "source": []
  }
 ],
 "metadata": {
  "anaconda-cloud": {},
  "kernelspec": {
   "display_name": "Julia 1.0.4",
   "language": "julia",
   "name": "julia-1.0"
  },
  "language_info": {
   "file_extension": ".jl",
   "mimetype": "application/julia",
   "name": "julia",
   "version": "1.0.4"
  }
 },
 "nbformat": 4,
 "nbformat_minor": 1
}
